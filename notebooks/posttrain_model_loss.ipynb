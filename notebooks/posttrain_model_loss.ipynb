{
 "cells": [
  {
   "cell_type": "code",
   "execution_count": 1,
   "metadata": {},
   "outputs": [],
   "source": [
    "from nlp_adapter.train.training import set_up_exp"
   ]
  },
  {
   "cell_type": "code",
   "execution_count": 2,
   "metadata": {
    "scrolled": true
   },
   "outputs": [
    {
     "name": "stdout",
     "output_type": "stream",
     "text": [
      "Start loading models...\n",
      "All models are loading.\n",
      "\n",
      "Start preparing data...\n"
     ]
    },
    {
     "data": {
      "application/vnd.jupyter.widget-view+json": {
       "model_id": "5b02114dbc46423fbd1fac0060444e04",
       "version_major": 2,
       "version_minor": 0
      },
      "text/plain": [
       "Load dataset from file:   0%|          | 0/6948 [00:00<?, ?it/s]"
      ]
     },
     "metadata": {},
     "output_type": "display_data"
    },
    {
     "name": "stdout",
     "output_type": "stream",
     "text": [
      "All data are ready.\n",
      "\n",
      "Start training...\n"
     ]
    },
    {
     "data": {
      "application/vnd.jupyter.widget-view+json": {
       "model_id": "fc1484d6b1bc4f11804fd03181f975fb",
       "version_major": 2,
       "version_minor": 0
      },
      "text/plain": [
       "  0%|          | 0/1000 [00:00<?, ?it/s]"
      ]
     },
     "metadata": {},
     "output_type": "display_data"
    },
    {
     "data": {
      "application/vnd.jupyter.widget-view+json": {
       "model_id": "f67023790504462b8b5087b70b139c73",
       "version_major": 2,
       "version_minor": 0
      },
      "text/plain": [
       "  0%|          | 0/925 [00:00<?, ?it/s]"
      ]
     },
     "metadata": {},
     "output_type": "display_data"
    }
   ],
   "source": [
    "set_up_exp(\n",
    "    data_path='/home/apilkevich/notebooks/mipt/BD/data/input/train.tsv',\n",
    "    transformer_model_name='./pretrain_detox_s42/bs12_accum4_8320',\n",
    "    tokenizer_model_name='sberbank-ai/ruT5-base',\n",
    "    pretrain_adapter_path='./adapter_s42/adapter_1914.pt',\n",
    "    batch_size=12,\n",
    "    max_steps=925,\n",
    "    dump_model_name='posttrain_model_loss/bs12_accum4',\n",
    "    period_of_dump=924,\n",
    "    ce_w=0.0,\n",
    "    model_w=1.0,\n",
    "    train_model=True,\n",
    "    train_adapter=False,\n",
    "    seed=42,\n",
    "    test_size=None,\n",
    "    device='1',\n",
    "    loss_mode='sum',\n",
    "    model_lr=1e-5,\n",
    "    num_accum_steps=4,\n",
    ")"
   ]
  },
  {
   "cell_type": "code",
   "execution_count": 1,
   "metadata": {},
   "outputs": [],
   "source": [
    "from nlp_adapter.evaluation.evaluation import inference"
   ]
  },
  {
   "cell_type": "code",
   "execution_count": 3,
   "metadata": {},
   "outputs": [
    {
     "data": {
      "application/vnd.jupyter.widget-view+json": {
       "model_id": "b5414f7875cb45b5ba8e85dc1affa951",
       "version_major": 2,
       "version_minor": 0
      },
      "text/plain": [
       "  0%|          | 0/13 [00:00<?, ?it/s]"
      ]
     },
     "metadata": {},
     "output_type": "display_data"
    }
   ],
   "source": [
    "inference(\n",
    "    data_path='/home/apilkevich/notebooks/mipt/BD/data/input/dev.tsv',\n",
    "    model_name='./posttrain_model_loss/bs12_accum4_925',\n",
    "    tokenizer_model_name='sberbank-ai/ruT5-base',\n",
    "    result_path='/home/apilkevich/notebooks/mipt/BD/data/output/posttrain_model_loss_bs12_accum4_925.txt',\n",
    "    device='1',\n",
    ")"
   ]
  },
  {
   "cell_type": "code",
   "execution_count": 4,
   "metadata": {},
   "outputs": [],
   "source": [
    "from nlp_adapter.evaluation.evaluation import evaluate_and_dump"
   ]
  },
  {
   "cell_type": "code",
   "execution_count": 5,
   "metadata": {},
   "outputs": [
    {
     "name": "stdout",
     "output_type": "stream",
     "text": [
      "Load data...\n",
      "Load models...\n"
     ]
    },
    {
     "name": "stderr",
     "output_type": "stream",
     "text": [
      "Some weights of the model checkpoint at cointegrated/LaBSE-en-ru were not used when initializing BertModel: ['cls.predictions.transform.dense.bias', 'cls.seq_relationship.weight', 'cls.seq_relationship.bias', 'cls.predictions.transform.LayerNorm.weight', 'cls.predictions.transform.LayerNorm.bias', 'cls.predictions.decoder.weight', 'cls.predictions.transform.dense.weight', 'cls.predictions.bias', 'cls.predictions.decoder.bias']\n",
      "- This IS expected if you are initializing BertModel from the checkpoint of a model trained on another task or with another architecture (e.g. initializing a BertForSequenceClassification model from a BertForPreTraining model).\n",
      "- This IS NOT expected if you are initializing BertModel from the checkpoint of a model that you expect to be exactly identical (initializing a BertForSequenceClassification model from a BertForSequenceClassification model).\n"
     ]
    },
    {
     "name": "stdout",
     "output_type": "stream",
     "text": [
      "Style evaluation\n"
     ]
    },
    {
     "data": {
      "application/vnd.jupyter.widget-view+json": {
       "model_id": "da1db3066fe94bc6a4738b99e4b6042e",
       "version_major": 2,
       "version_minor": 0
      },
      "text/plain": [
       "  0%|          | 0/25 [00:00<?, ?it/s]"
      ]
     },
     "metadata": {},
     "output_type": "display_data"
    },
    {
     "name": "stdout",
     "output_type": "stream",
     "text": [
      "Meaning evaluation\n"
     ]
    },
    {
     "data": {
      "application/vnd.jupyter.widget-view+json": {
       "model_id": "b8f8543f66634d18b058e378f2212e3c",
       "version_major": 2,
       "version_minor": 0
      },
      "text/plain": [
       "  0%|          | 0/25 [00:00<?, ?it/s]"
      ]
     },
     "metadata": {},
     "output_type": "display_data"
    },
    {
     "data": {
      "application/vnd.jupyter.widget-view+json": {
       "model_id": "75fb54e88bd54293b0639b32bfd19e69",
       "version_major": 2,
       "version_minor": 0
      },
      "text/plain": [
       "  0%|          | 0/25 [00:00<?, ?it/s]"
      ]
     },
     "metadata": {},
     "output_type": "display_data"
    },
    {
     "name": "stdout",
     "output_type": "stream",
     "text": [
      "Fluency evaluation\n"
     ]
    },
    {
     "data": {
      "application/vnd.jupyter.widget-view+json": {
       "model_id": "eee692268f6c4a6c9a183735f1ab90a6",
       "version_major": 2,
       "version_minor": 0
      },
      "text/plain": [
       "  0%|          | 0/25 [00:00<?, ?it/s]"
      ]
     },
     "metadata": {},
     "output_type": "display_data"
    },
    {
     "data": {
      "application/vnd.jupyter.widget-view+json": {
       "model_id": "c53f2cd5db3442d5904679813cd211e1",
       "version_major": 2,
       "version_minor": 0
      },
      "text/plain": [
       "  0%|          | 0/25 [00:00<?, ?it/s]"
      ]
     },
     "metadata": {},
     "output_type": "display_data"
    },
    {
     "data": {
      "text/plain": [
       "{'accuracy': 0.998250424861908,\n",
       " 'similarity': 0.003823584411293268,\n",
       " 'fluency': 0.8681082129478455,\n",
       " 'joint': 0.0034693139605224133,\n",
       " 'chrf': 0.11871835467275017,\n",
       " 'accuracy_chrf': 0.11851064799097953}"
      ]
     },
     "execution_count": 5,
     "metadata": {},
     "output_type": "execute_result"
    }
   ],
   "source": [
    "evaluate_and_dump(\n",
    "    gold_label_path='/home/apilkevich/notebooks/mipt/BD/data/input/dev.tsv',\n",
    "    predicts_path='/home/apilkevich/notebooks/mipt/BD/data/output/posttrain_model_loss_bs12_accum4_925.txt',\n",
    "    name='posttrain_model_loss_bs12_accum4_925',\n",
    "    output_path='./results.md',\n",
    "    batch_size=32,\n",
    "    device='1',\n",
    ")"
   ]
  },
  {
   "cell_type": "code",
   "execution_count": null,
   "metadata": {},
   "outputs": [],
   "source": []
  }
 ],
 "metadata": {
  "kernelspec": {
   "display_name": "conda_ds",
   "language": "python",
   "name": "conda_ds"
  },
  "language_info": {
   "codemirror_mode": {
    "name": "ipython",
    "version": 3
   },
   "file_extension": ".py",
   "mimetype": "text/x-python",
   "name": "python",
   "nbconvert_exporter": "python",
   "pygments_lexer": "ipython3",
   "version": "3.7.11"
  }
 },
 "nbformat": 4,
 "nbformat_minor": 4
}
